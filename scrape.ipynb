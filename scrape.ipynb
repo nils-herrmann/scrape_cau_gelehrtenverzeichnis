{
 "cells": [
  {
   "cell_type": "code",
   "execution_count": 1,
   "metadata": {},
   "outputs": [],
   "source": [
    "import requests\n",
    "from bs4 import BeautifulSoup\n",
    "from lxml import etree\n",
    "from tqdm.notebook import trange, tqdm\n",
    "import json\n",
    "import pandas as pd\n",
    "\n",
    "from utils import get_text, determine_qp_type"
   ]
  },
  {
   "cell_type": "code",
   "execution_count": null,
   "metadata": {},
   "outputs": [],
   "source": [
    "persons_base_url = 'https://cau.gelehrtenverzeichnis.de/persons'\n",
    "\n",
    "all_links = []\n",
    "for page in trange(1, 180):\n",
    "    # Create url and retreive data\n",
    "    url = f'{persons_base_url}?page={page}'\n",
    "    response = requests.get(url)\n",
    "\n",
    "    if response.status_code != 200:\n",
    "        raise Exception(response.status_code)\n",
    "    \n",
    "    # Create soup\n",
    "    soup = BeautifulSoup(response.content, 'html.parser')\n",
    "    # Find all links\n",
    "    found_links = [a['href'] for a in soup.find_all('a', href=True) if a['href'].startswith('/person/')]\n",
    "    # Extend list\n",
    "    all_links.extend(found_links)\n",
    "\n",
    "# Unique entries\n",
    "all_links = set(all_links)"
   ]
  },
  {
   "cell_type": "code",
   "execution_count": 15,
   "metadata": {},
   "outputs": [],
   "source": [
    "# Save all links\n",
    "with open('out/all_links.txt', 'w') as file:\n",
    "    for link in all_links:\n",
    "        file.write(f\"{link}\\n\")"
   ]
  },
  {
   "cell_type": "code",
   "execution_count": 2,
   "metadata": {},
   "outputs": [],
   "source": [
    "# Read all links\n",
    "with open('out/all_links.txt', 'r') as file:\n",
    "    all_links = [line.strip() for line in file.readlines()]"
   ]
  },
  {
   "cell_type": "code",
   "execution_count": 3,
   "metadata": {},
   "outputs": [],
   "source": [
    "# Get person ids\n",
    "person_ids = [link.split('/')[-1] for link in all_links]"
   ]
  },
  {
   "cell_type": "code",
   "execution_count": 4,
   "metadata": {},
   "outputs": [
    {
     "data": {
      "application/vnd.jupyter.widget-view+json": {
       "model_id": "63f4712dac4c4c55a0818ef0c0a34750",
       "version_major": 2,
       "version_minor": 0
      },
      "text/plain": [
       "  0%|          | 0/1071 [00:00<?, ?it/s]"
      ]
     },
     "metadata": {},
     "output_type": "display_data"
    }
   ],
   "source": [
    "rdf_base_url = 'https://cau.gelehrtenverzeichnis.de/data/about'\n",
    "namespaces = {'rdf': 'http://www.w3.org/1999/02/22-rdf-syntax-ns#',\n",
    "              'j.0': 'http://gelehrtenverzeichnis.de/',\n",
    "              'owl': 'http://www.w3.org/2002/07/owl#',\n",
    "              'rdfs': 'http://www.w3.org/2000/01/rdf-schema#'}\n",
    "\n",
    "data = []\n",
    "for id in tqdm(person_ids):\n",
    "    # Get persons data\n",
    "    rdf_url = f'{rdf_base_url}/{id}'\n",
    "    response = requests.get(rdf_url)\n",
    "    if response.status_code != 200:\n",
    "        raise Exception(response.status_code)\n",
    "    \n",
    "    # Parse the XML content\n",
    "    root = etree.fromstring(response.content)\n",
    "    family_name = get_text(root, './/j.0:familyName', namespaces)\n",
    "    given_name = get_text(root, './/j.0:givenName', namespaces)\n",
    "\n",
    "    # Get qualification papers info\n",
    "    qualification_papers = root.findall('.//j.0:qualificationPaper', namespaces)\n",
    "    qualification_paper_urls = [qp.get('{http://www.w3.org/1999/02/22-rdf-syntax-ns#}resource') for qp in qualification_papers]\n",
    "\n",
    "    qp_data = []\n",
    "    for qp_url in qualification_paper_urls:\n",
    "        qp_response = requests.get(qp_url)\n",
    "        if qp_response.status_code != 200:\n",
    "            raise Exception(response.status_code)\n",
    "        # Parse\n",
    "        qp_root = etree.fromstring(qp_response.content)\n",
    "        title = get_text(qp_root, './/j.0:title', namespaces)\n",
    "        subject = get_text(qp_root, './/j.0:subject', namespaces)\n",
    "\n",
    "        qp_types = qp_root.findall('.//rdf:type', namespaces)\n",
    "        qp_types_list = [type.get('{http://www.w3.org/1999/02/22-rdf-syntax-ns#}resource') for type in qp_types]\n",
    "        qp_type = determine_qp_type(qp_types_list)\n",
    "\n",
    "        qp_data.append({'title': title,\n",
    "                        'subject': subject,\n",
    "                        'type': qp_type})\n",
    "    \n",
    "    data.append({'id': id,\n",
    "                'family_name': family_name,\n",
    "                'given_name': given_name,\n",
    "                'qualification_papers': qp_data})\n",
    "       "
   ]
  },
  {
   "cell_type": "code",
   "execution_count": 5,
   "metadata": {},
   "outputs": [],
   "source": [
    "# Save data as JSON\n",
    "with open('out/data.json', 'w', encoding='utf-8') as json_file:\n",
    "    json.dump(data, json_file, ensure_ascii=False, indent=4)"
   ]
  },
  {
   "cell_type": "code",
   "execution_count": 6,
   "metadata": {},
   "outputs": [],
   "source": [
    "# Read data from JSON file\n",
    "with open('out/data.json', 'r', encoding='utf-8') as json_file:\n",
    "    data = json.load(json_file)\n",
    "\n",
    "# Convert to DataFrame\n",
    "df = pd.json_normalize(data, 'qualification_papers', ['id', 'family_name', 'given_name'])\n",
    "\n",
    "# Save DataFrame to CSV\n",
    "df.to_csv('out/data.csv', index=False)"
   ]
  }
 ],
 "metadata": {
  "kernelspec": {
   "display_name": "scrape",
   "language": "python",
   "name": "python3"
  },
  "language_info": {
   "codemirror_mode": {
    "name": "ipython",
    "version": 3
   },
   "file_extension": ".py",
   "mimetype": "text/x-python",
   "name": "python",
   "nbconvert_exporter": "python",
   "pygments_lexer": "ipython3",
   "version": "3.12.5"
  }
 },
 "nbformat": 4,
 "nbformat_minor": 2
}
